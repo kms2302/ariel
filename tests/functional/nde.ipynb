{
 "cells": [
  {
   "cell_type": "markdown",
   "id": "19a57bcf",
   "metadata": {},
   "source": [
    "# NDE: Neural Developmental Encodings"
   ]
  },
  {
   "cell_type": "code",
   "execution_count": 1,
   "id": "5da3f6a0",
   "metadata": {},
   "outputs": [],
   "source": [
    "# Standard library\n",
    "from math import isclose\n",
    "from pathlib import Path\n",
    "\n",
    "# Third party libraries\n",
    "import numpy as np\n",
    "\n",
    "# Local libraries\n",
    "from ariel import console\n",
    "from ariel.ec.genotypes.nde import NeuralDevelopmentalEncoding"
   ]
  },
  {
   "cell_type": "code",
   "execution_count": 2,
   "id": "7c8a577a",
   "metadata": {},
   "outputs": [],
   "source": [
    "# --- DATA SETUP ---\n",
    "CWD = Path.cwd()\n",
    "DATA = CWD / \"__data__\"\n",
    "DATA.mkdir(exist_ok=True)\n"
   ]
  },
  {
   "cell_type": "code",
   "execution_count": 3,
   "id": "fcd6d6a0",
   "metadata": {},
   "outputs": [],
   "source": [
    "# --- RANDOM GENERATOR SETUP --- #\n",
    "SEED = 42\n",
    "RNG = np.random.default_rng(SEED)"
   ]
  },
  {
   "cell_type": "code",
   "execution_count": 4,
   "id": "1bb8c602",
   "metadata": {},
   "outputs": [],
   "source": [
    "# Global variables\n",
    "SPAWN_POS = [-0.8, 0, 0.1]\n",
    "NUM_OF_MODULES = 30\n",
    "TARGET_POSITION = [5, 0, 0.5]"
   ]
  },
  {
   "cell_type": "markdown",
   "id": "3cb090bc",
   "metadata": {},
   "source": [
    "## Diversity Assessment"
   ]
  },
  {
   "cell_type": "markdown",
   "id": "b26dd1b9",
   "metadata": {},
   "source": [
    "### Standard Normal"
   ]
  },
  {
   "cell_type": "code",
   "execution_count": 5,
   "id": "941d634c",
   "metadata": {},
   "outputs": [
    {
     "data": {
      "text/html": [
       "<pre style=\"white-space:pre;overflow-x:auto;line-height:normal;font-family:Menlo,'DejaVu Sans Mono',consolas,'Courier New',monospace\"><span style=\"color: #008000; text-decoration-color: #008000; font-weight: bold\">Mean diversity:</span> <span style=\"color: #008080; text-decoration-color: #008080; font-weight: bold\">51.12075424194336</span>\n",
       "</pre>\n"
      ],
      "text/plain": [
       "\u001b[1;32mMean diversity:\u001b[0m \u001b[1;36m51.12075424194336\u001b[0m\n"
      ]
     },
     "metadata": {},
     "output_type": "display_data"
    }
   ],
   "source": [
    "matrix_history = []\n",
    "for _i in range(500):\n",
    "    genotype_size = 64\n",
    "    type_p_genes = RNG.random(genotype_size).astype(np.float32)\n",
    "    conn_p_genes = RNG.random(genotype_size).astype(np.float32)\n",
    "    rot_p_genes = RNG.random(genotype_size).astype(np.float32)\n",
    "\n",
    "    genotype = [\n",
    "        type_p_genes,\n",
    "        conn_p_genes,\n",
    "        rot_p_genes,\n",
    "    ]\n",
    "\n",
    "    nde = NeuralDevelopmentalEncoding(number_of_modules=NUM_OF_MODULES)\n",
    "    p_matrices = nde.forward(genotype)\n",
    "    matrix_history.append(np.concatenate([p.flatten() for p in p_matrices]))\n",
    "\n",
    "sum_of_diff = 0\n",
    "for i in range(len(matrix_history)):\n",
    "    for j in range(i, len(matrix_history)):\n",
    "        if i != j:\n",
    "            sum_of_diff += np.sum(np.abs(matrix_history[i] - matrix_history[j]))\n",
    "\n",
    "mean = sum_of_diff / (len(matrix_history) * (len(matrix_history) - 1))\n",
    "console.print(f\"[bold green]Mean diversity:[/bold green] {mean}\")"
   ]
  },
  {
   "cell_type": "code",
   "execution_count": 6,
   "id": "25421638",
   "metadata": {},
   "outputs": [
    {
     "data": {
      "text/html": [
       "<pre style=\"white-space:pre;overflow-x:auto;line-height:normal;font-family:Menlo,'DejaVu Sans Mono',consolas,'Courier New',monospace\"><span style=\"color: #008000; text-decoration-color: #008000; font-weight: bold\">Mean diversity:</span> <span style=\"color: #008080; text-decoration-color: #008080; font-weight: bold\">1439.3802490234375</span>\n",
       "</pre>\n"
      ],
      "text/plain": [
       "\u001b[1;32mMean diversity:\u001b[0m \u001b[1;36m1439.3802490234375\u001b[0m\n"
      ]
     },
     "metadata": {},
     "output_type": "display_data"
    }
   ],
   "source": [
    "matrix_history = []\n",
    "scale = 8192\n",
    "samples = 500\n",
    "for _ in range(samples):\n",
    "    genotype_size = 64\n",
    "    type_p_genes = RNG.uniform(-scale, scale, genotype_size).astype(\n",
    "        np.float32,\n",
    "    )\n",
    "    conn_p_genes = RNG.uniform(-scale, scale, genotype_size).astype(\n",
    "        np.float32,\n",
    "    )\n",
    "    rot_p_genes = RNG.uniform(-scale, scale, genotype_size).astype(\n",
    "        np.float32,\n",
    "    )\n",
    "\n",
    "    genotype = [\n",
    "        type_p_genes,\n",
    "        conn_p_genes,\n",
    "        rot_p_genes,\n",
    "    ]\n",
    "\n",
    "    nde = NeuralDevelopmentalEncoding(number_of_modules=NUM_OF_MODULES)\n",
    "    p_matrices = nde.forward(genotype)\n",
    "    matrix_history.append(np.concatenate([p.flatten() for p in p_matrices]))\n",
    "\n",
    "sum_of_diff = 0\n",
    "for i in range(len(matrix_history)):\n",
    "    for j in range(i, len(matrix_history)):\n",
    "        if i != j:\n",
    "            sum_of_diff += np.sum(np.abs(matrix_history[i] - matrix_history[j]))\n",
    "\n",
    "mean = sum_of_diff / (len(matrix_history) * (len(matrix_history) - 1))\n",
    "console.print(f\"[bold green]Mean diversity:[/bold green] {mean}\")"
   ]
  },
  {
   "cell_type": "markdown",
   "id": "3fa2ea4b",
   "metadata": {},
   "source": [
    "### Find Maximal Diversity"
   ]
  },
  {
   "cell_type": "code",
   "execution_count": 7,
   "id": "cc8ee663",
   "metadata": {},
   "outputs": [
    {
     "data": {
      "text/html": [
       "<pre style=\"white-space:pre;overflow-x:auto;line-height:normal;font-family:Menlo,'DejaVu Sans Mono',consolas,'Courier New',monospace\"><span style=\"color: #7fbfbf; text-decoration-color: #7fbfbf\">[16:52:22] </span>Sampling with scale: <span style=\"color: #008080; text-decoration-color: #008080; font-weight: bold\">2</span>                                                                   <a href=\"file:///var/folders/x7/1fxq57_x2d1c5hmfwj4l43cw0000gp/T/ipykernel_25063/416473013.py\" target=\"_blank\"><span style=\"color: #7f7f7f; text-decoration-color: #7f7f7f\">416473013.py</span></a><span style=\"color: #7f7f7f; text-decoration-color: #7f7f7f\">:</span><a href=\"file:///var/folders/x7/1fxq57_x2d1c5hmfwj4l43cw0000gp/T/ipykernel_25063/416473013.py#11\" target=\"_blank\"><span style=\"color: #7f7f7f; text-decoration-color: #7f7f7f\">11</span></a>\n",
       "</pre>\n"
      ],
      "text/plain": [
       "\u001b[2;36m[16:52:22]\u001b[0m\u001b[2;36m \u001b[0mSampling with scale: \u001b[1;36m2\u001b[0m                                                                   \u001b]8;id=265350;file:///var/folders/x7/1fxq57_x2d1c5hmfwj4l43cw0000gp/T/ipykernel_25063/416473013.py\u001b\\\u001b[2m416473013.py\u001b[0m\u001b]8;;\u001b\\\u001b[2m:\u001b[0m\u001b]8;id=196787;file:///var/folders/x7/1fxq57_x2d1c5hmfwj4l43cw0000gp/T/ipykernel_25063/416473013.py#11\u001b\\\u001b[2m11\u001b[0m\u001b]8;;\u001b\\\n"
      ]
     },
     "metadata": {},
     "output_type": "display_data"
    },
    {
     "data": {
      "text/html": [
       "<pre style=\"white-space:pre;overflow-x:auto;line-height:normal;font-family:Menlo,'DejaVu Sans Mono',consolas,'Courier New',monospace\"><span style=\"color: #008000; text-decoration-color: #008000; font-weight: bold\">Mean diversity:</span> <span style=\"color: #008080; text-decoration-color: #008080; font-weight: bold\">52.79603576660156</span>\n",
       "</pre>\n"
      ],
      "text/plain": [
       "\u001b[1;32mMean diversity:\u001b[0m \u001b[1;36m52.79603576660156\u001b[0m\n"
      ]
     },
     "metadata": {},
     "output_type": "display_data"
    },
    {
     "data": {
      "text/html": [
       "<pre style=\"white-space:pre;overflow-x:auto;line-height:normal;font-family:Menlo,'DejaVu Sans Mono',consolas,'Courier New',monospace\"><span style=\"color: #7fbfbf; text-decoration-color: #7fbfbf\">[16:52:23] </span>Sampling with scale: <span style=\"color: #008080; text-decoration-color: #008080; font-weight: bold\">4</span>                                                                   <a href=\"file:///var/folders/x7/1fxq57_x2d1c5hmfwj4l43cw0000gp/T/ipykernel_25063/416473013.py\" target=\"_blank\"><span style=\"color: #7f7f7f; text-decoration-color: #7f7f7f\">416473013.py</span></a><span style=\"color: #7f7f7f; text-decoration-color: #7f7f7f\">:</span><a href=\"file:///var/folders/x7/1fxq57_x2d1c5hmfwj4l43cw0000gp/T/ipykernel_25063/416473013.py#11\" target=\"_blank\"><span style=\"color: #7f7f7f; text-decoration-color: #7f7f7f\">11</span></a>\n",
       "</pre>\n"
      ],
      "text/plain": [
       "\u001b[2;36m[16:52:23]\u001b[0m\u001b[2;36m \u001b[0mSampling with scale: \u001b[1;36m4\u001b[0m                                                                   \u001b]8;id=44574;file:///var/folders/x7/1fxq57_x2d1c5hmfwj4l43cw0000gp/T/ipykernel_25063/416473013.py\u001b\\\u001b[2m416473013.py\u001b[0m\u001b]8;;\u001b\\\u001b[2m:\u001b[0m\u001b]8;id=541094;file:///var/folders/x7/1fxq57_x2d1c5hmfwj4l43cw0000gp/T/ipykernel_25063/416473013.py#11\u001b\\\u001b[2m11\u001b[0m\u001b]8;;\u001b\\\n"
      ]
     },
     "metadata": {},
     "output_type": "display_data"
    },
    {
     "data": {
      "text/html": [
       "<pre style=\"white-space:pre;overflow-x:auto;line-height:normal;font-family:Menlo,'DejaVu Sans Mono',consolas,'Courier New',monospace\"><span style=\"color: #008000; text-decoration-color: #008000; font-weight: bold\">Mean diversity:</span> <span style=\"color: #008080; text-decoration-color: #008080; font-weight: bold\">58.3109016418457</span>\n",
       "</pre>\n"
      ],
      "text/plain": [
       "\u001b[1;32mMean diversity:\u001b[0m \u001b[1;36m58.3109016418457\u001b[0m\n"
      ]
     },
     "metadata": {},
     "output_type": "display_data"
    },
    {
     "data": {
      "text/html": [
       "<pre style=\"white-space:pre;overflow-x:auto;line-height:normal;font-family:Menlo,'DejaVu Sans Mono',consolas,'Courier New',monospace\"><span style=\"color: #7fbfbf; text-decoration-color: #7fbfbf\">[16:52:25] </span>Sampling with scale: <span style=\"color: #008080; text-decoration-color: #008080; font-weight: bold\">8</span>                                                                   <a href=\"file:///var/folders/x7/1fxq57_x2d1c5hmfwj4l43cw0000gp/T/ipykernel_25063/416473013.py\" target=\"_blank\"><span style=\"color: #7f7f7f; text-decoration-color: #7f7f7f\">416473013.py</span></a><span style=\"color: #7f7f7f; text-decoration-color: #7f7f7f\">:</span><a href=\"file:///var/folders/x7/1fxq57_x2d1c5hmfwj4l43cw0000gp/T/ipykernel_25063/416473013.py#11\" target=\"_blank\"><span style=\"color: #7f7f7f; text-decoration-color: #7f7f7f\">11</span></a>\n",
       "</pre>\n"
      ],
      "text/plain": [
       "\u001b[2;36m[16:52:25]\u001b[0m\u001b[2;36m \u001b[0mSampling with scale: \u001b[1;36m8\u001b[0m                                                                   \u001b]8;id=793328;file:///var/folders/x7/1fxq57_x2d1c5hmfwj4l43cw0000gp/T/ipykernel_25063/416473013.py\u001b\\\u001b[2m416473013.py\u001b[0m\u001b]8;;\u001b\\\u001b[2m:\u001b[0m\u001b]8;id=818785;file:///var/folders/x7/1fxq57_x2d1c5hmfwj4l43cw0000gp/T/ipykernel_25063/416473013.py#11\u001b\\\u001b[2m11\u001b[0m\u001b]8;;\u001b\\\n"
      ]
     },
     "metadata": {},
     "output_type": "display_data"
    },
    {
     "data": {
      "text/html": [
       "<pre style=\"white-space:pre;overflow-x:auto;line-height:normal;font-family:Menlo,'DejaVu Sans Mono',consolas,'Courier New',monospace\"><span style=\"color: #008000; text-decoration-color: #008000; font-weight: bold\">Mean diversity:</span> <span style=\"color: #008080; text-decoration-color: #008080; font-weight: bold\">78.24568176269531</span>\n",
       "</pre>\n"
      ],
      "text/plain": [
       "\u001b[1;32mMean diversity:\u001b[0m \u001b[1;36m78.24568176269531\u001b[0m\n"
      ]
     },
     "metadata": {},
     "output_type": "display_data"
    },
    {
     "data": {
      "text/html": [
       "<pre style=\"white-space:pre;overflow-x:auto;line-height:normal;font-family:Menlo,'DejaVu Sans Mono',consolas,'Courier New',monospace\"><span style=\"color: #7fbfbf; text-decoration-color: #7fbfbf\">[16:52:26] </span>Sampling with scale: <span style=\"color: #008080; text-decoration-color: #008080; font-weight: bold\">16</span>                                                                  <a href=\"file:///var/folders/x7/1fxq57_x2d1c5hmfwj4l43cw0000gp/T/ipykernel_25063/416473013.py\" target=\"_blank\"><span style=\"color: #7f7f7f; text-decoration-color: #7f7f7f\">416473013.py</span></a><span style=\"color: #7f7f7f; text-decoration-color: #7f7f7f\">:</span><a href=\"file:///var/folders/x7/1fxq57_x2d1c5hmfwj4l43cw0000gp/T/ipykernel_25063/416473013.py#11\" target=\"_blank\"><span style=\"color: #7f7f7f; text-decoration-color: #7f7f7f\">11</span></a>\n",
       "</pre>\n"
      ],
      "text/plain": [
       "\u001b[2;36m[16:52:26]\u001b[0m\u001b[2;36m \u001b[0mSampling with scale: \u001b[1;36m16\u001b[0m                                                                  \u001b]8;id=150310;file:///var/folders/x7/1fxq57_x2d1c5hmfwj4l43cw0000gp/T/ipykernel_25063/416473013.py\u001b\\\u001b[2m416473013.py\u001b[0m\u001b]8;;\u001b\\\u001b[2m:\u001b[0m\u001b]8;id=506511;file:///var/folders/x7/1fxq57_x2d1c5hmfwj4l43cw0000gp/T/ipykernel_25063/416473013.py#11\u001b\\\u001b[2m11\u001b[0m\u001b]8;;\u001b\\\n"
      ]
     },
     "metadata": {},
     "output_type": "display_data"
    },
    {
     "data": {
      "text/html": [
       "<pre style=\"white-space:pre;overflow-x:auto;line-height:normal;font-family:Menlo,'DejaVu Sans Mono',consolas,'Courier New',monospace\"><span style=\"color: #008000; text-decoration-color: #008000; font-weight: bold\">Mean diversity:</span> <span style=\"color: #008080; text-decoration-color: #008080; font-weight: bold\">127.30414581298828</span>\n",
       "</pre>\n"
      ],
      "text/plain": [
       "\u001b[1;32mMean diversity:\u001b[0m \u001b[1;36m127.30414581298828\u001b[0m\n"
      ]
     },
     "metadata": {},
     "output_type": "display_data"
    },
    {
     "data": {
      "text/html": [
       "<pre style=\"white-space:pre;overflow-x:auto;line-height:normal;font-family:Menlo,'DejaVu Sans Mono',consolas,'Courier New',monospace\"><span style=\"color: #7fbfbf; text-decoration-color: #7fbfbf\">[16:52:27] </span>Sampling with scale: <span style=\"color: #008080; text-decoration-color: #008080; font-weight: bold\">32</span>                                                                  <a href=\"file:///var/folders/x7/1fxq57_x2d1c5hmfwj4l43cw0000gp/T/ipykernel_25063/416473013.py\" target=\"_blank\"><span style=\"color: #7f7f7f; text-decoration-color: #7f7f7f\">416473013.py</span></a><span style=\"color: #7f7f7f; text-decoration-color: #7f7f7f\">:</span><a href=\"file:///var/folders/x7/1fxq57_x2d1c5hmfwj4l43cw0000gp/T/ipykernel_25063/416473013.py#11\" target=\"_blank\"><span style=\"color: #7f7f7f; text-decoration-color: #7f7f7f\">11</span></a>\n",
       "</pre>\n"
      ],
      "text/plain": [
       "\u001b[2;36m[16:52:27]\u001b[0m\u001b[2;36m \u001b[0mSampling with scale: \u001b[1;36m32\u001b[0m                                                                  \u001b]8;id=574403;file:///var/folders/x7/1fxq57_x2d1c5hmfwj4l43cw0000gp/T/ipykernel_25063/416473013.py\u001b\\\u001b[2m416473013.py\u001b[0m\u001b]8;;\u001b\\\u001b[2m:\u001b[0m\u001b]8;id=376758;file:///var/folders/x7/1fxq57_x2d1c5hmfwj4l43cw0000gp/T/ipykernel_25063/416473013.py#11\u001b\\\u001b[2m11\u001b[0m\u001b]8;;\u001b\\\n"
      ]
     },
     "metadata": {},
     "output_type": "display_data"
    },
    {
     "data": {
      "text/html": [
       "<pre style=\"white-space:pre;overflow-x:auto;line-height:normal;font-family:Menlo,'DejaVu Sans Mono',consolas,'Courier New',monospace\"><span style=\"color: #008000; text-decoration-color: #008000; font-weight: bold\">Mean diversity:</span> <span style=\"color: #008080; text-decoration-color: #008080; font-weight: bold\">232.2046356201172</span>\n",
       "</pre>\n"
      ],
      "text/plain": [
       "\u001b[1;32mMean diversity:\u001b[0m \u001b[1;36m232.2046356201172\u001b[0m\n"
      ]
     },
     "metadata": {},
     "output_type": "display_data"
    },
    {
     "data": {
      "text/html": [
       "<pre style=\"white-space:pre;overflow-x:auto;line-height:normal;font-family:Menlo,'DejaVu Sans Mono',consolas,'Courier New',monospace\"><span style=\"color: #7fbfbf; text-decoration-color: #7fbfbf\">[16:52:28] </span>Sampling with scale: <span style=\"color: #008080; text-decoration-color: #008080; font-weight: bold\">64</span>                                                                  <a href=\"file:///var/folders/x7/1fxq57_x2d1c5hmfwj4l43cw0000gp/T/ipykernel_25063/416473013.py\" target=\"_blank\"><span style=\"color: #7f7f7f; text-decoration-color: #7f7f7f\">416473013.py</span></a><span style=\"color: #7f7f7f; text-decoration-color: #7f7f7f\">:</span><a href=\"file:///var/folders/x7/1fxq57_x2d1c5hmfwj4l43cw0000gp/T/ipykernel_25063/416473013.py#11\" target=\"_blank\"><span style=\"color: #7f7f7f; text-decoration-color: #7f7f7f\">11</span></a>\n",
       "</pre>\n"
      ],
      "text/plain": [
       "\u001b[2;36m[16:52:28]\u001b[0m\u001b[2;36m \u001b[0mSampling with scale: \u001b[1;36m64\u001b[0m                                                                  \u001b]8;id=186795;file:///var/folders/x7/1fxq57_x2d1c5hmfwj4l43cw0000gp/T/ipykernel_25063/416473013.py\u001b\\\u001b[2m416473013.py\u001b[0m\u001b]8;;\u001b\\\u001b[2m:\u001b[0m\u001b]8;id=46521;file:///var/folders/x7/1fxq57_x2d1c5hmfwj4l43cw0000gp/T/ipykernel_25063/416473013.py#11\u001b\\\u001b[2m11\u001b[0m\u001b]8;;\u001b\\\n"
      ]
     },
     "metadata": {},
     "output_type": "display_data"
    },
    {
     "data": {
      "text/html": [
       "<pre style=\"white-space:pre;overflow-x:auto;line-height:normal;font-family:Menlo,'DejaVu Sans Mono',consolas,'Courier New',monospace\"><span style=\"color: #008000; text-decoration-color: #008000; font-weight: bold\">Mean diversity:</span> <span style=\"color: #008080; text-decoration-color: #008080; font-weight: bold\">437.3689270019531</span>\n",
       "</pre>\n"
      ],
      "text/plain": [
       "\u001b[1;32mMean diversity:\u001b[0m \u001b[1;36m437.3689270019531\u001b[0m\n"
      ]
     },
     "metadata": {},
     "output_type": "display_data"
    },
    {
     "data": {
      "text/html": [
       "<pre style=\"white-space:pre;overflow-x:auto;line-height:normal;font-family:Menlo,'DejaVu Sans Mono',consolas,'Courier New',monospace\"><span style=\"color: #7fbfbf; text-decoration-color: #7fbfbf\">[16:52:29] </span>Sampling with scale: <span style=\"color: #008080; text-decoration-color: #008080; font-weight: bold\">128</span>                                                                 <a href=\"file:///var/folders/x7/1fxq57_x2d1c5hmfwj4l43cw0000gp/T/ipykernel_25063/416473013.py\" target=\"_blank\"><span style=\"color: #7f7f7f; text-decoration-color: #7f7f7f\">416473013.py</span></a><span style=\"color: #7f7f7f; text-decoration-color: #7f7f7f\">:</span><a href=\"file:///var/folders/x7/1fxq57_x2d1c5hmfwj4l43cw0000gp/T/ipykernel_25063/416473013.py#11\" target=\"_blank\"><span style=\"color: #7f7f7f; text-decoration-color: #7f7f7f\">11</span></a>\n",
       "</pre>\n"
      ],
      "text/plain": [
       "\u001b[2;36m[16:52:29]\u001b[0m\u001b[2;36m \u001b[0mSampling with scale: \u001b[1;36m128\u001b[0m                                                                 \u001b]8;id=963663;file:///var/folders/x7/1fxq57_x2d1c5hmfwj4l43cw0000gp/T/ipykernel_25063/416473013.py\u001b\\\u001b[2m416473013.py\u001b[0m\u001b]8;;\u001b\\\u001b[2m:\u001b[0m\u001b]8;id=469578;file:///var/folders/x7/1fxq57_x2d1c5hmfwj4l43cw0000gp/T/ipykernel_25063/416473013.py#11\u001b\\\u001b[2m11\u001b[0m\u001b]8;;\u001b\\\n"
      ]
     },
     "metadata": {},
     "output_type": "display_data"
    },
    {
     "data": {
      "text/html": [
       "<pre style=\"white-space:pre;overflow-x:auto;line-height:normal;font-family:Menlo,'DejaVu Sans Mono',consolas,'Courier New',monospace\"><span style=\"color: #008000; text-decoration-color: #008000; font-weight: bold\">Mean diversity:</span> <span style=\"color: #008080; text-decoration-color: #008080; font-weight: bold\">750.5179443359375</span>\n",
       "</pre>\n"
      ],
      "text/plain": [
       "\u001b[1;32mMean diversity:\u001b[0m \u001b[1;36m750.5179443359375\u001b[0m\n"
      ]
     },
     "metadata": {},
     "output_type": "display_data"
    },
    {
     "data": {
      "text/html": [
       "<pre style=\"white-space:pre;overflow-x:auto;line-height:normal;font-family:Menlo,'DejaVu Sans Mono',consolas,'Courier New',monospace\"><span style=\"color: #7fbfbf; text-decoration-color: #7fbfbf\">[16:52:30] </span>Sampling with scale: <span style=\"color: #008080; text-decoration-color: #008080; font-weight: bold\">256</span>                                                                 <a href=\"file:///var/folders/x7/1fxq57_x2d1c5hmfwj4l43cw0000gp/T/ipykernel_25063/416473013.py\" target=\"_blank\"><span style=\"color: #7f7f7f; text-decoration-color: #7f7f7f\">416473013.py</span></a><span style=\"color: #7f7f7f; text-decoration-color: #7f7f7f\">:</span><a href=\"file:///var/folders/x7/1fxq57_x2d1c5hmfwj4l43cw0000gp/T/ipykernel_25063/416473013.py#11\" target=\"_blank\"><span style=\"color: #7f7f7f; text-decoration-color: #7f7f7f\">11</span></a>\n",
       "</pre>\n"
      ],
      "text/plain": [
       "\u001b[2;36m[16:52:30]\u001b[0m\u001b[2;36m \u001b[0mSampling with scale: \u001b[1;36m256\u001b[0m                                                                 \u001b]8;id=431876;file:///var/folders/x7/1fxq57_x2d1c5hmfwj4l43cw0000gp/T/ipykernel_25063/416473013.py\u001b\\\u001b[2m416473013.py\u001b[0m\u001b]8;;\u001b\\\u001b[2m:\u001b[0m\u001b]8;id=867030;file:///var/folders/x7/1fxq57_x2d1c5hmfwj4l43cw0000gp/T/ipykernel_25063/416473013.py#11\u001b\\\u001b[2m11\u001b[0m\u001b]8;;\u001b\\\n"
      ]
     },
     "metadata": {},
     "output_type": "display_data"
    },
    {
     "data": {
      "text/html": [
       "<pre style=\"white-space:pre;overflow-x:auto;line-height:normal;font-family:Menlo,'DejaVu Sans Mono',consolas,'Courier New',monospace\"><span style=\"color: #008000; text-decoration-color: #008000; font-weight: bold\">Mean diversity:</span> <span style=\"color: #008080; text-decoration-color: #008080; font-weight: bold\">1082.0037841796875</span>\n",
       "</pre>\n"
      ],
      "text/plain": [
       "\u001b[1;32mMean diversity:\u001b[0m \u001b[1;36m1082.0037841796875\u001b[0m\n"
      ]
     },
     "metadata": {},
     "output_type": "display_data"
    },
    {
     "data": {
      "text/html": [
       "<pre style=\"white-space:pre;overflow-x:auto;line-height:normal;font-family:Menlo,'DejaVu Sans Mono',consolas,'Courier New',monospace\"><span style=\"color: #7fbfbf; text-decoration-color: #7fbfbf\">[16:52:31] </span>Sampling with scale: <span style=\"color: #008080; text-decoration-color: #008080; font-weight: bold\">512</span>                                                                 <a href=\"file:///var/folders/x7/1fxq57_x2d1c5hmfwj4l43cw0000gp/T/ipykernel_25063/416473013.py\" target=\"_blank\"><span style=\"color: #7f7f7f; text-decoration-color: #7f7f7f\">416473013.py</span></a><span style=\"color: #7f7f7f; text-decoration-color: #7f7f7f\">:</span><a href=\"file:///var/folders/x7/1fxq57_x2d1c5hmfwj4l43cw0000gp/T/ipykernel_25063/416473013.py#11\" target=\"_blank\"><span style=\"color: #7f7f7f; text-decoration-color: #7f7f7f\">11</span></a>\n",
       "</pre>\n"
      ],
      "text/plain": [
       "\u001b[2;36m[16:52:31]\u001b[0m\u001b[2;36m \u001b[0mSampling with scale: \u001b[1;36m512\u001b[0m                                                                 \u001b]8;id=305884;file:///var/folders/x7/1fxq57_x2d1c5hmfwj4l43cw0000gp/T/ipykernel_25063/416473013.py\u001b\\\u001b[2m416473013.py\u001b[0m\u001b]8;;\u001b\\\u001b[2m:\u001b[0m\u001b]8;id=805715;file:///var/folders/x7/1fxq57_x2d1c5hmfwj4l43cw0000gp/T/ipykernel_25063/416473013.py#11\u001b\\\u001b[2m11\u001b[0m\u001b]8;;\u001b\\\n"
      ]
     },
     "metadata": {},
     "output_type": "display_data"
    },
    {
     "data": {
      "text/html": [
       "<pre style=\"white-space:pre;overflow-x:auto;line-height:normal;font-family:Menlo,'DejaVu Sans Mono',consolas,'Courier New',monospace\"><span style=\"color: #008000; text-decoration-color: #008000; font-weight: bold\">Mean diversity:</span> <span style=\"color: #008080; text-decoration-color: #008080; font-weight: bold\">1309.3076171875</span>\n",
       "</pre>\n"
      ],
      "text/plain": [
       "\u001b[1;32mMean diversity:\u001b[0m \u001b[1;36m1309.3076171875\u001b[0m\n"
      ]
     },
     "metadata": {},
     "output_type": "display_data"
    },
    {
     "data": {
      "text/html": [
       "<pre style=\"white-space:pre;overflow-x:auto;line-height:normal;font-family:Menlo,'DejaVu Sans Mono',consolas,'Courier New',monospace\"><span style=\"color: #7fbfbf; text-decoration-color: #7fbfbf\">[16:52:32] </span>Sampling with scale: <span style=\"color: #008080; text-decoration-color: #008080; font-weight: bold\">1024</span>                                                                <a href=\"file:///var/folders/x7/1fxq57_x2d1c5hmfwj4l43cw0000gp/T/ipykernel_25063/416473013.py\" target=\"_blank\"><span style=\"color: #7f7f7f; text-decoration-color: #7f7f7f\">416473013.py</span></a><span style=\"color: #7f7f7f; text-decoration-color: #7f7f7f\">:</span><a href=\"file:///var/folders/x7/1fxq57_x2d1c5hmfwj4l43cw0000gp/T/ipykernel_25063/416473013.py#11\" target=\"_blank\"><span style=\"color: #7f7f7f; text-decoration-color: #7f7f7f\">11</span></a>\n",
       "</pre>\n"
      ],
      "text/plain": [
       "\u001b[2;36m[16:52:32]\u001b[0m\u001b[2;36m \u001b[0mSampling with scale: \u001b[1;36m1024\u001b[0m                                                                \u001b]8;id=49152;file:///var/folders/x7/1fxq57_x2d1c5hmfwj4l43cw0000gp/T/ipykernel_25063/416473013.py\u001b\\\u001b[2m416473013.py\u001b[0m\u001b]8;;\u001b\\\u001b[2m:\u001b[0m\u001b]8;id=777597;file:///var/folders/x7/1fxq57_x2d1c5hmfwj4l43cw0000gp/T/ipykernel_25063/416473013.py#11\u001b\\\u001b[2m11\u001b[0m\u001b]8;;\u001b\\\n"
      ]
     },
     "metadata": {},
     "output_type": "display_data"
    },
    {
     "data": {
      "text/html": [
       "<pre style=\"white-space:pre;overflow-x:auto;line-height:normal;font-family:Menlo,'DejaVu Sans Mono',consolas,'Courier New',monospace\"><span style=\"color: #008000; text-decoration-color: #008000; font-weight: bold\">Mean diversity:</span> <span style=\"color: #008080; text-decoration-color: #008080; font-weight: bold\">1401.0279541015625</span>\n",
       "</pre>\n"
      ],
      "text/plain": [
       "\u001b[1;32mMean diversity:\u001b[0m \u001b[1;36m1401.0279541015625\u001b[0m\n"
      ]
     },
     "metadata": {},
     "output_type": "display_data"
    },
    {
     "data": {
      "text/html": [
       "<pre style=\"white-space:pre;overflow-x:auto;line-height:normal;font-family:Menlo,'DejaVu Sans Mono',consolas,'Courier New',monospace\"><span style=\"color: #7fbfbf; text-decoration-color: #7fbfbf\">[16:52:33] </span>Sampling with scale: <span style=\"color: #008080; text-decoration-color: #008080; font-weight: bold\">2048</span>                                                                <a href=\"file:///var/folders/x7/1fxq57_x2d1c5hmfwj4l43cw0000gp/T/ipykernel_25063/416473013.py\" target=\"_blank\"><span style=\"color: #7f7f7f; text-decoration-color: #7f7f7f\">416473013.py</span></a><span style=\"color: #7f7f7f; text-decoration-color: #7f7f7f\">:</span><a href=\"file:///var/folders/x7/1fxq57_x2d1c5hmfwj4l43cw0000gp/T/ipykernel_25063/416473013.py#11\" target=\"_blank\"><span style=\"color: #7f7f7f; text-decoration-color: #7f7f7f\">11</span></a>\n",
       "</pre>\n"
      ],
      "text/plain": [
       "\u001b[2;36m[16:52:33]\u001b[0m\u001b[2;36m \u001b[0mSampling with scale: \u001b[1;36m2048\u001b[0m                                                                \u001b]8;id=761160;file:///var/folders/x7/1fxq57_x2d1c5hmfwj4l43cw0000gp/T/ipykernel_25063/416473013.py\u001b\\\u001b[2m416473013.py\u001b[0m\u001b]8;;\u001b\\\u001b[2m:\u001b[0m\u001b]8;id=915113;file:///var/folders/x7/1fxq57_x2d1c5hmfwj4l43cw0000gp/T/ipykernel_25063/416473013.py#11\u001b\\\u001b[2m11\u001b[0m\u001b]8;;\u001b\\\n"
      ]
     },
     "metadata": {},
     "output_type": "display_data"
    },
    {
     "data": {
      "text/html": [
       "<pre style=\"white-space:pre;overflow-x:auto;line-height:normal;font-family:Menlo,'DejaVu Sans Mono',consolas,'Courier New',monospace\"><span style=\"color: #008000; text-decoration-color: #008000; font-weight: bold\">Mean diversity:</span> <span style=\"color: #008080; text-decoration-color: #008080; font-weight: bold\">1428.8968505859375</span>\n",
       "</pre>\n"
      ],
      "text/plain": [
       "\u001b[1;32mMean diversity:\u001b[0m \u001b[1;36m1428.8968505859375\u001b[0m\n"
      ]
     },
     "metadata": {},
     "output_type": "display_data"
    },
    {
     "data": {
      "text/html": [
       "<pre style=\"white-space:pre;overflow-x:auto;line-height:normal;font-family:Menlo,'DejaVu Sans Mono',consolas,'Courier New',monospace\"><span style=\"color: #7fbfbf; text-decoration-color: #7fbfbf\">[16:52:34] </span>Sampling with scale: <span style=\"color: #008080; text-decoration-color: #008080; font-weight: bold\">4096</span>                                                                <a href=\"file:///var/folders/x7/1fxq57_x2d1c5hmfwj4l43cw0000gp/T/ipykernel_25063/416473013.py\" target=\"_blank\"><span style=\"color: #7f7f7f; text-decoration-color: #7f7f7f\">416473013.py</span></a><span style=\"color: #7f7f7f; text-decoration-color: #7f7f7f\">:</span><a href=\"file:///var/folders/x7/1fxq57_x2d1c5hmfwj4l43cw0000gp/T/ipykernel_25063/416473013.py#11\" target=\"_blank\"><span style=\"color: #7f7f7f; text-decoration-color: #7f7f7f\">11</span></a>\n",
       "</pre>\n"
      ],
      "text/plain": [
       "\u001b[2;36m[16:52:34]\u001b[0m\u001b[2;36m \u001b[0mSampling with scale: \u001b[1;36m4096\u001b[0m                                                                \u001b]8;id=520014;file:///var/folders/x7/1fxq57_x2d1c5hmfwj4l43cw0000gp/T/ipykernel_25063/416473013.py\u001b\\\u001b[2m416473013.py\u001b[0m\u001b]8;;\u001b\\\u001b[2m:\u001b[0m\u001b]8;id=261513;file:///var/folders/x7/1fxq57_x2d1c5hmfwj4l43cw0000gp/T/ipykernel_25063/416473013.py#11\u001b\\\u001b[2m11\u001b[0m\u001b]8;;\u001b\\\n"
      ]
     },
     "metadata": {},
     "output_type": "display_data"
    },
    {
     "data": {
      "text/html": [
       "<pre style=\"white-space:pre;overflow-x:auto;line-height:normal;font-family:Menlo,'DejaVu Sans Mono',consolas,'Courier New',monospace\"><span style=\"color: #008000; text-decoration-color: #008000; font-weight: bold\">Mean diversity:</span> <span style=\"color: #008080; text-decoration-color: #008080; font-weight: bold\">1437.289306640625</span>\n",
       "</pre>\n"
      ],
      "text/plain": [
       "\u001b[1;32mMean diversity:\u001b[0m \u001b[1;36m1437.289306640625\u001b[0m\n"
      ]
     },
     "metadata": {},
     "output_type": "display_data"
    },
    {
     "data": {
      "text/html": [
       "<pre style=\"white-space:pre;overflow-x:auto;line-height:normal;font-family:Menlo,'DejaVu Sans Mono',consolas,'Courier New',monospace\"><span style=\"color: #7fbfbf; text-decoration-color: #7fbfbf\">[16:52:35] </span>Sampling with scale: <span style=\"color: #008080; text-decoration-color: #008080; font-weight: bold\">8192</span>                                                                <a href=\"file:///var/folders/x7/1fxq57_x2d1c5hmfwj4l43cw0000gp/T/ipykernel_25063/416473013.py\" target=\"_blank\"><span style=\"color: #7f7f7f; text-decoration-color: #7f7f7f\">416473013.py</span></a><span style=\"color: #7f7f7f; text-decoration-color: #7f7f7f\">:</span><a href=\"file:///var/folders/x7/1fxq57_x2d1c5hmfwj4l43cw0000gp/T/ipykernel_25063/416473013.py#11\" target=\"_blank\"><span style=\"color: #7f7f7f; text-decoration-color: #7f7f7f\">11</span></a>\n",
       "</pre>\n"
      ],
      "text/plain": [
       "\u001b[2;36m[16:52:35]\u001b[0m\u001b[2;36m \u001b[0mSampling with scale: \u001b[1;36m8192\u001b[0m                                                                \u001b]8;id=447912;file:///var/folders/x7/1fxq57_x2d1c5hmfwj4l43cw0000gp/T/ipykernel_25063/416473013.py\u001b\\\u001b[2m416473013.py\u001b[0m\u001b]8;;\u001b\\\u001b[2m:\u001b[0m\u001b]8;id=729370;file:///var/folders/x7/1fxq57_x2d1c5hmfwj4l43cw0000gp/T/ipykernel_25063/416473013.py#11\u001b\\\u001b[2m11\u001b[0m\u001b]8;;\u001b\\\n"
      ]
     },
     "metadata": {},
     "output_type": "display_data"
    },
    {
     "data": {
      "text/html": [
       "<pre style=\"white-space:pre;overflow-x:auto;line-height:normal;font-family:Menlo,'DejaVu Sans Mono',consolas,'Courier New',monospace\"><span style=\"color: #008000; text-decoration-color: #008000; font-weight: bold\">Mean diversity:</span> <span style=\"color: #008080; text-decoration-color: #008080; font-weight: bold\">1439.3741455078125</span>\n",
       "</pre>\n"
      ],
      "text/plain": [
       "\u001b[1;32mMean diversity:\u001b[0m \u001b[1;36m1439.3741455078125\u001b[0m\n"
      ]
     },
     "metadata": {},
     "output_type": "display_data"
    },
    {
     "data": {
      "text/html": [
       "<pre style=\"white-space:pre;overflow-x:auto;line-height:normal;font-family:Menlo,'DejaVu Sans Mono',consolas,'Courier New',monospace\"><span style=\"color: #7fbfbf; text-decoration-color: #7fbfbf\">[16:52:36] </span>Sampling with scale: <span style=\"color: #008080; text-decoration-color: #008080; font-weight: bold\">16384</span>                                                               <a href=\"file:///var/folders/x7/1fxq57_x2d1c5hmfwj4l43cw0000gp/T/ipykernel_25063/416473013.py\" target=\"_blank\"><span style=\"color: #7f7f7f; text-decoration-color: #7f7f7f\">416473013.py</span></a><span style=\"color: #7f7f7f; text-decoration-color: #7f7f7f\">:</span><a href=\"file:///var/folders/x7/1fxq57_x2d1c5hmfwj4l43cw0000gp/T/ipykernel_25063/416473013.py#11\" target=\"_blank\"><span style=\"color: #7f7f7f; text-decoration-color: #7f7f7f\">11</span></a>\n",
       "</pre>\n"
      ],
      "text/plain": [
       "\u001b[2;36m[16:52:36]\u001b[0m\u001b[2;36m \u001b[0mSampling with scale: \u001b[1;36m16384\u001b[0m                                                               \u001b]8;id=346476;file:///var/folders/x7/1fxq57_x2d1c5hmfwj4l43cw0000gp/T/ipykernel_25063/416473013.py\u001b\\\u001b[2m416473013.py\u001b[0m\u001b]8;;\u001b\\\u001b[2m:\u001b[0m\u001b]8;id=31897;file:///var/folders/x7/1fxq57_x2d1c5hmfwj4l43cw0000gp/T/ipykernel_25063/416473013.py#11\u001b\\\u001b[2m11\u001b[0m\u001b]8;;\u001b\\\n"
      ]
     },
     "metadata": {},
     "output_type": "display_data"
    },
    {
     "data": {
      "text/html": [
       "<pre style=\"white-space:pre;overflow-x:auto;line-height:normal;font-family:Menlo,'DejaVu Sans Mono',consolas,'Courier New',monospace\"><span style=\"color: #008000; text-decoration-color: #008000; font-weight: bold\">Mean diversity:</span> <span style=\"color: #008080; text-decoration-color: #008080; font-weight: bold\">1439.8330078125</span>\n",
       "</pre>\n"
      ],
      "text/plain": [
       "\u001b[1;32mMean diversity:\u001b[0m \u001b[1;36m1439.8330078125\u001b[0m\n"
      ]
     },
     "metadata": {},
     "output_type": "display_data"
    }
   ],
   "source": [
    "old_diversity = 0\n",
    "new_diversity = -1\n",
    "scale = 1\n",
    "samples = 500\n",
    "while not isclose(old_diversity, new_diversity):\n",
    "    scale *= 2\n",
    "    matrix_history = []\n",
    "    old_diversity = new_diversity\n",
    "\n",
    "    # Generate samples\n",
    "    console.log(f\"Sampling with scale: {scale}\")\n",
    "    for _ in range(samples):\n",
    "        genotype_size = 64 * 4\n",
    "        type_p_genes = RNG.uniform(-scale, scale, genotype_size).astype(\n",
    "            np.float32,\n",
    "        )\n",
    "        conn_p_genes = RNG.uniform(-scale, scale, genotype_size).astype(\n",
    "            np.float32,\n",
    "        )\n",
    "        rot_p_genes = RNG.uniform(-scale, scale, genotype_size).astype(\n",
    "            np.float32,\n",
    "        )\n",
    "\n",
    "        genotype = [\n",
    "            type_p_genes,\n",
    "            conn_p_genes,\n",
    "            rot_p_genes,\n",
    "        ]\n",
    "\n",
    "        nde = NeuralDevelopmentalEncoding(\n",
    "            number_of_modules=NUM_OF_MODULES,\n",
    "            genotype_size=genotype_size,\n",
    "        )\n",
    "        p_matrices = nde.forward(genotype)\n",
    "        matrix_history.append(np.concatenate([p.flatten() for p in p_matrices]))\n",
    "\n",
    "    # Calculate diversity\n",
    "    sum_of_diff = 0\n",
    "    for i in range(len(matrix_history)):\n",
    "        for j in range(i, len(matrix_history)):\n",
    "            if i != j:\n",
    "                sum_of_diff += np.sum(\n",
    "                    np.abs(matrix_history[i] - matrix_history[j]),\n",
    "                )\n",
    "\n",
    "    # New diversity\n",
    "    mean = sum_of_diff / (len(matrix_history) * (len(matrix_history) - 1))\n",
    "    console.print(f\"[bold green]Mean diversity:[/bold green] {mean}\")\n",
    "    new_diversity = int(mean)"
   ]
  }
 ],
 "metadata": {
  "kernelspec": {
   "display_name": "ariel4 (3.12.9)",
   "language": "python",
   "name": "python3"
  },
  "language_info": {
   "codemirror_mode": {
    "name": "ipython",
    "version": 3
   },
   "file_extension": ".py",
   "mimetype": "text/x-python",
   "name": "python",
   "nbconvert_exporter": "python",
   "pygments_lexer": "ipython3",
   "version": "3.12.9"
  }
 },
 "nbformat": 4,
 "nbformat_minor": 5
}
